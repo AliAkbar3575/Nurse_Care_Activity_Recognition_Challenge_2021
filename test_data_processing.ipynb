{
 "cells": [
  {
   "cell_type": "code",
   "execution_count": null,
   "metadata": {},
   "outputs": [],
   "source": [
    "%reset\n"
   ]
  },
  {
   "cell_type": "code",
   "execution_count": null,
   "metadata": {},
   "outputs": [],
   "source": [
    "import pandas as pd\n",
    "import numpy as np\n",
    "from tqdm import tqdm\n",
    "import datetime as dt\n",
    "from matplotlib import pyplot as plt\n",
    "from scipy import signal\n",
    "from scipy.signal import butter, lfilter, freqz,filtfilt, welch,find_peaks\n",
    "from scipy.fft import fft \n",
    "from scipy.special import entr\n",
    "from scipy.stats import kurtosis,skew,entropy\n",
    "from scipy.stats.stats import pearsonr \n",
    "from scipy.fftpack import fft\n",
    "import math\n",
    "import time\n",
    "import seaborn as sns\n",
    "import pickle\n",
    "from statistics import stdev\n",
    "from statistics import variance\n",
    "import random\n",
    "from detecta import detect_peaks\n",
    "import pywt "
   ]
  },
  {
   "cell_type": "markdown",
   "metadata": {},
   "source": [
    "# Test data loading"
   ]
  },
  {
   "cell_type": "code",
   "execution_count": null,
   "metadata": {
    "scrolled": true
   },
   "outputs": [],
   "source": [
    "df = pd.read_csv(\"acc_user2.csv\")\n",
    "df = df.drop(['Unnamed: 0'],axis=1)\n",
    "print('\\n\\nHead:\\n\\n',df.head())\n",
    "print('\\n\\nTail:\\n\\n',df.tail())\n",
    "\n",
    "print('\\n\\nShape: ' , df.shape)\n"
   ]
  },
  {
   "cell_type": "markdown",
   "metadata": {},
   "source": [
    "# Checking and clearing null and duplicate values"
   ]
  },
  {
   "cell_type": "code",
   "execution_count": null,
   "metadata": {},
   "outputs": [],
   "source": [
    "\n",
    "print('\\n\\nNumber of null values :' ,df.isna().sum())\n",
    "print('\\n\\nNumber of duplicate data :',df.duplicated().sum())"
   ]
  },
  {
   "cell_type": "code",
   "execution_count": null,
   "metadata": {},
   "outputs": [],
   "source": [
    "df.dropna(inplace=True)\n",
    "dfnew=df.drop_duplicates(keep='first')\n",
    "print('\\n\\nAfter cleaning null data and duplicate data shape is :',dfnew.shape)"
   ]
  },
  {
   "cell_type": "markdown",
   "metadata": {},
   "source": [
    "# Converting timezone into UTC"
   ]
  },
  {
   "cell_type": "code",
   "execution_count": null,
   "metadata": {
    "scrolled": true
   },
   "outputs": [],
   "source": [
    "dfnew.datetime = pd.to_datetime(dfnew.datetime)\n",
    "dfnew.set_index('datetime', inplace =True)\n",
    "dfnew = dfnew.tz_convert(tz='UTC')\n",
    "dfnew.reset_index(inplace=True)\n",
    "user = dfnew.copy()\n",
    "user_id = input('Give the User_id no : ')\n",
    "\n",
    "user['User_id'] = int(user_id)\n",
    "print('\\n\\nAfter changing the timzone to UTC and adding the User_id column: ')\n",
    "print('\\nHead :\\n\\n',user.head())\n",
    "print('Tail :\\n\\n',user.tail())\n",
    "print('\\n Shape : \\n', user.shape)\n"
   ]
  },
  {
   "cell_type": "code",
   "execution_count": null,
   "metadata": {},
   "outputs": [],
   "source": [
    "user=user.sort_values(by='datetime').reset_index(drop=True)\n",
    "#df.set_index('datetime',inplace=True)\n",
    "print('\\n\\nAfter sorting by the \\'datetime\\' column :')\n",
    "print('\\nHead :\\n\\n',user.head())\n",
    "print('\\nTail :\\n\\n',user.tail())\n",
    "print('\\n\\n Shape:',user.shape)"
   ]
  },
  {
   "cell_type": "code",
   "execution_count": null,
   "metadata": {},
   "outputs": [],
   "source": []
  },
  {
   "cell_type": "code",
   "execution_count": null,
   "metadata": {},
   "outputs": [],
   "source": []
  },
  {
   "cell_type": "markdown",
   "metadata": {},
   "source": [
    "# Segmenting user data where timestamp difference is larger than 2 mins"
   ]
  },
  {
   "cell_type": "code",
   "execution_count": null,
   "metadata": {},
   "outputs": [],
   "source": [
    "user=user.sort_values(by='datetime').reset_index(drop=True)\n",
    "com = dt.timedelta(seconds=120)\n",
    "user['datetime']=pd.to_datetime(user['datetime'])\n",
    "d = user['datetime'].diff(periods=1)\n",
    "breaki = user[(user['datetime'].diff(periods=1)>=com)] \n",
    "breaki=breaki.sort_values(by='datetime')\n",
    "print('\\n\\nData that have \\'timestamp\\' difference with the previous data more than the desire value :  \\n\\n')\n",
    "print(breaki.head())\n",
    "print(breaki.tail())\n",
    "print('\\n\\nShape :',breaki.shape)"
   ]
  },
  {
   "cell_type": "code",
   "execution_count": null,
   "metadata": {},
   "outputs": [],
   "source": [
    "d ={}\n",
    "new=0\n",
    "count=0\n",
    "for i in tqdm(breaki.index):\n",
    "    print (i)\n",
    "    d[count] = pd.DataFrame()\n",
    "    d[count]=user.loc[new:i-1]\n",
    "    new = i\n",
    "    count+=1\n",
    "    if (i==breaki.index[-1]):\n",
    "        d[count] = user.loc[new:]\n",
    "    "
   ]
  },
  {
   "cell_type": "code",
   "execution_count": null,
   "metadata": {},
   "outputs": [],
   "source": [
    "for i in tqdm(range(len(d))):\n",
    "    print('d',i,'\\n')\n",
    "    print('head:',d[i].head())\n",
    "    print('tail:',d[i].tail())\n",
    "    print('Shape:',d[i].shape,'\\n')"
   ]
  },
  {
   "cell_type": "code",
   "execution_count": null,
   "metadata": {},
   "outputs": [],
   "source": [
    "#d3 = pd.Timestamp('2018-06-16 04:46:01.849000+00:00')\n",
    "#delt = time.mktime(d3.timetuple())\n",
    "#print(delt)\n",
    "vlo =0\n",
    "kharap=0\n",
    "#print(len(d))\n",
    "for i in tqdm(range(len(d))):\n",
    "    if (len(d[i])<=5):\n",
    "        vlo+=1\n",
    "        if (d[i][\"datetime\"].nunique()==1):\n",
    "            kharap+=1\n",
    "        else:\n",
    "            continue\n",
    "    else : \n",
    "        continue\n",
    "print('Number of DataFrame with only one data :', kharap)\n",
    "print('Number of DataFrame with less or equal 5 data :', vlo)"
   ]
  },
  {
   "cell_type": "markdown",
   "metadata": {},
   "source": [
    "# Resampling"
   ]
  },
  {
   "cell_type": "code",
   "execution_count": null,
   "metadata": {},
   "outputs": [],
   "source": [
    "#unsampled1 = user1.resample('0.05S')\n",
    "#inter1 = unsampled1.interpolate(method = 'spline',order=2)\n",
    "#print(inter1.head())\n",
    "\n",
    "\n",
    "\n",
    "\n",
    "#####x=df3['x'].to_numpy\n",
    "delt = {}\n",
    "f = {}\n",
    "frame=pd.DataFrame()\n",
    "\n",
    "if breaki.empty:\n",
    "    print('\\n\\n This user has no data with datetime differance larger than that we desired\\n\\n ')\n",
    "    lopa = pd.Timestamp(user['datetime'].iloc[-1])- pd.Timestamp(user[\"datetime\"].iloc[0])\n",
    "    lopa = lopa.total_seconds()\n",
    "    lopa = (lopa*20)+1\n",
    "    lopa = math.ceil(lopa)\n",
    "    print('\\n\\n Number of total data in section {} is {}'. format(1,lopa))\n",
    "    user['datetime']=pd.to_datetime(user['datetime'])\n",
    "    frame['x']= signal.resample(user['x'],lopa)\n",
    "    frame['y']=signal.resample(user['y'],lopa)\n",
    "    frame['z']=signal.resample(user['z'],lopa)\n",
    "    frame['datetime'] = pd.date_range(start=pd.Timestamp(user[\"datetime\"].iloc[0]),periods=lopa ,freq='0.05S')\n",
    "    print('\\n\\n Number of row of datetime of section {0} is {1} '.format(1,frame.datetime.nunique()))\n",
    "    print('\\nSection : 1\\n')\n",
    "    print('\\n\\n Head : \\n\\n',frame.head())\n",
    "    print('\\n\\n Tail : \\n\\n',frame.tail())\n",
    "    print('\\n Shape:',frame.shape)\n",
    "else :\n",
    "    \n",
    "    for i in tqdm(range(len(d))):\n",
    "        \n",
    "        if (pd.Timestamp(d[i]['datetime'].iloc[-1]) != pd.Timestamp(d[i][\"datetime\"].iloc[0])):\n",
    "        \n",
    "            delt[i] = pd.Timestamp(d[i]['datetime'].iloc[-1])- pd.Timestamp(d[i][\"datetime\"].iloc[0])\n",
    "            delt[i] = delt[i].total_seconds()\n",
    "            delt[i] = (delt[i]*20)+1\n",
    "            delt[i]=math.ceil(delt[i])\n",
    "            print('\\n\\n Number of total data in section {} is {}'. format(i,delt[i]))\n",
    "            f[i] = pd.DataFrame()\n",
    "            d[i]['datetime']=pd.to_datetime(d[i]['datetime'])\n",
    "        \n",
    "            #(f[i]['x'],f[i]['datetime'])= signal.resample(d[i]['x'],delt[i],d[i]['datetime'])\n",
    "            f[i]['x']= signal.resample(d[i]['x'],delt[i])\n",
    "            f[i]['y']=signal.resample(d[i]['y'],delt[i])\n",
    "            f[i]['z']=signal.resample(d[i]['z'],delt[i])\n",
    "            #f[i]['User_id'] = d[i]['User_id']\n",
    "            f[i]['datetime'] = pd.date_range(start=pd.Timestamp(d[i][\"datetime\"].iloc[0]),periods=delt[i] ,freq='0.05S')\n",
    "            print('\\n\\n Number of row of datetime of section {0} is {1} '.format(i,f[i].datetime.nunique()))\n",
    "            print('\\nSection', i ,'\\n')\n",
    "            print('\\n\\n Head : \\n\\n',f[i].head())\n",
    "            print('\\n\\n Tail : \\n\\n',f[i].tail())\n",
    "            print('\\n Shape:',f[i].shape)\n",
    "        \n",
    "        elif (pd.Timestamp(d[i]['datetime'].iloc[-1]) == pd.Timestamp(d[i][\"datetime\"].iloc[0])):\n",
    "            #f[i] = d[i]\n",
    "            print('\\n Here is  a single row')\n",
    "            continue\n",
    "            #print('\\nSection', i+1 ,'\\n')\n",
    "            #print(f[i].head())\n",
    "            #print(f[i].tail())\n",
    "            #print('\\n Shape:',f[i].shape)\n",
    "        frame = frame.append([f[i]], ignore_index=False, sort=True)        \n",
    "id_no = input('Give the User_id no : ')\n",
    "frame['User_id'] = int(id_no)\n",
    "frame.dropna(inplace=True)\n",
    "frame=frame.drop_duplicates()\n",
    "frame=frame.sort_values(by='datetime').reset_index(drop=True)\n",
    "frame.datetime = pd.to_datetime(frame.datetime)\n",
    "print('\\nAfter concatanation :\\n Head:\\n \\n \\n ',frame.head())\n",
    "print('\\nTail:\\n\\n\\n',frame.tail())\n",
    "print('\\nShape: ',frame.shape)"
   ]
  },
  {
   "cell_type": "markdown",
   "metadata": {},
   "source": [
    "# Segmenting resampled data where timestamp difference is larger than 2 mins"
   ]
  },
  {
   "cell_type": "code",
   "execution_count": null,
   "metadata": {},
   "outputs": [],
   "source": [
    "frame=frame.sort_values(by='datetime').reset_index(drop=True)\n",
    "com3 = dt.timedelta(milliseconds=50)\n",
    "frame['datetime']=pd.to_datetime(frame['datetime'])\n",
    "d = frame['datetime'].diff(periods=1)\n",
    "seg = frame[(frame['datetime'].diff(periods=1)>com3)] \n",
    "seg=seg.sort_values(by='datetime')\n",
    "print('\\n\\nData that have \\'timestamp\\' difference with the previous data more than the desire value :  \\n\\n')\n",
    "print(seg.head())\n",
    "print(seg.tail())\n",
    "print('\\n\\nShape :',seg.shape)"
   ]
  },
  {
   "cell_type": "code",
   "execution_count": null,
   "metadata": {},
   "outputs": [],
   "source": [
    "wi ={}\n",
    "new=0\n",
    "count=1\n",
    "for i in tqdm(seg.index):\n",
    "    print (i)\n",
    "    wi[count] = pd.DataFrame()\n",
    "    wi[count]=frame.loc[new:i-1]\n",
    "    new = i\n",
    "    count+=1\n",
    "    if (i==seg.index[-1]):\n",
    "        wi[count] = frame.loc[new:]\n",
    "print(len(wi))"
   ]
  },
  {
   "cell_type": "code",
   "execution_count": null,
   "metadata": {},
   "outputs": [],
   "source": [
    "for i in tqdm(range(len(wi))):\n",
    "    print('wi',i+1,'\\n')\n",
    "    print('head:',wi[i+1].head())\n",
    "    print('tail:',wi[i+1].tail())\n",
    "    print('Shape:',wi[i+1].shape,'\\n')"
   ]
  },
  {
   "cell_type": "markdown",
   "metadata": {},
   "source": [
    "# Windowing without overlapping"
   ]
  },
  {
   "cell_type": "code",
   "execution_count": null,
   "metadata": {},
   "outputs": [],
   "source": [
    "\n",
    "pwd1 = 100\n",
    "pwd2 = 50\n",
    "overlap1 = 0\n",
    "overlap2 = 0\n",
    "final_window = pd.DataFrame(columns = ['user_id','acc_x','acc_y','acc_z','start','finish'])\n",
    "final_window['acc_x'] = final_window['acc_x'].astype('object')\n",
    "final_window['acc_y'] = final_window['acc_y'].astype('object')\n",
    "final_window['acc_z'] = final_window['acc_z'].astype('object')\n",
    "no1 = 0\n",
    "no2 = pwd1\n",
    "no3 = 0\n",
    "no4 = pwd2\n",
    "x_list = []\n",
    "y_list = []\n",
    "z_list = []\n",
    "hal = 0\n",
    "value_count = 0\n",
    "data_count = 0\n",
    "for j in tqdm(range(len(wi))):\n",
    "    no1 = 0\n",
    "    no2 = pwd1\n",
    "    no3 = 0\n",
    "    no4 = pwd2\n",
    "    \n",
    "    #val = math.ceil(((wi[j+1].index[-1]+1) - (wi[j+1].index[0]))/pwd)\n",
    "    \n",
    "    print('Length of wi{0} is {1}'.format(j+1, math.ceil(((wi[j+1].index[-1]+1) - (wi[j+1].index[0])))))\n",
    "    wi[j+1] = wi[j+1].reset_index(drop=True)\n",
    "    \n",
    "    if (len(wi[j+1]) >= pwd1):\n",
    "        print('\\n\\nThis wi{0} has more than {1} data \\n\\n'.format(j+1, pwd1))\n",
    "        for i in tqdm(range(math.ceil(len(wi[j+1])/pwd1))):\n",
    "            if no2 <= len(wi[j+1]):\n",
    "                print('\\n\\nNumber till which list is windowed : ',no2)\n",
    "                final_window.loc[hal,'start'] = wi[j+1].loc[no1,'datetime']\n",
    "                final_window.loc[hal,'finish'] = wi[j+1].loc[no2-1,'datetime']\n",
    "                x_list.append(wi[j+1].loc[no1:no2-1].x)\n",
    "                x_list[hal] = x_list[hal].to_numpy()\n",
    "                final_window.loc[hal,'acc_x'] =  x_list[hal]\n",
    "                y_list.append(wi[j+1].loc[no1:no2-1].y)\n",
    "                y_list[hal] = y_list[hal].to_numpy()\n",
    "                final_window.loc[hal,'acc_y'] =  y_list[hal]\n",
    "                z_list.append(wi[j+1].loc[no1:no2-1].z)\n",
    "                z_list[hal] = z_list[hal].to_numpy()\n",
    "                final_window.loc[hal,'acc_z'] =  z_list[hal]\n",
    "               # final_window.loc[hal,'label'] = wi[j+1].loc[i].label\n",
    "                final_window.loc[hal,'user_id'] = wi[j+1].loc[i].User_id\n",
    "                no1 = no1 + pwd1\n",
    "                no2 = no2 + pwd1\n",
    "                print('\\n\\nThe \\'hal\\' value is : ', hal )\n",
    "                hal+=1\n",
    "            \n",
    "            else :\n",
    "                print('\\n\\nHere not enough data for making another window.')\n",
    "                value_count += 1\n",
    "                no1 = no1 + pwd1\n",
    "                \n",
    "                \n",
    "    #elif (len(wi[j+1]) < pwd1) & (len(wi[j+1]) >= pwd2) :\n",
    "     #   print('\\n\\nThis wi{0} has less than {1} data \\n\\n'.format(j+1, pwd1))\n",
    "      #  while(no3 <= (len(wi[j+1]) - pwd2 + overlap2)):\n",
    "      #      if no4 <= len(wi[j+1]):\n",
    "      #          print('\\n\\nNumber till which list is windowed : ',no4)\n",
    "      #          final_window.loc[hal,'start'] = wi[j+1].loc[no3,'datetime']\n",
    "       #         final_window.loc[hal,'finish'] = wi[j+1].loc[no4-1,'datetime']\n",
    "       #         x_list.append(wi[j+1].loc[no3:no4-1].x)\n",
    "       #         x_list[hal] = x_list[hal].to_numpy()\n",
    "       #         final_window.loc[hal,'acc_x'] =  x_list[hal]\n",
    "       #         y_list.append(wi[j+1].loc[no3:no4-1].y)\n",
    "       #         y_list[hal] = y_list[hal].to_numpy()\n",
    "       #         final_window.loc[hal,'acc_y'] =  y_list[hal]\n",
    "       #         z_list.append(wi[j+1].loc[no3:no4-1].z)\n",
    "       #         z_list[hal] = z_list[hal].to_numpy()\n",
    "       #         final_window.loc[hal,'acc_z'] =  z_list[hal]\n",
    "       #         final_window.loc[hal,'label'] = wi[j+1].loc[i].label\n",
    "       #         final_window.loc[hal,'user_id'] = wi[j+1].loc[i].User_id\n",
    "       #         no3 = no3 + overlap2\n",
    "       #         no4 = no4 + overlap2\n",
    "       #         print('\\n\\nThe \\'hal\\' value is : ', hal )\n",
    "       #         hal+=1\n",
    "            \n",
    "        #    else :\n",
    "        #        print('\\n\\nHere not enough data for making another window.')\n",
    "        #        value_count += 1\n",
    "        #        no3 = no3 + overlap2\n",
    "                \n",
    "    else :\n",
    "        data_count += 1\n",
    "        \n",
    "print('\\n\\nNo of Dataframe which has data less than desired value (50 & 100 ) : ', data_count)        \n",
    "print('\\n\\nNo of incident when there were not sufficient data for making new widow : ', value_count )                "
   ]
  },
  {
   "cell_type": "code",
   "execution_count": null,
   "metadata": {},
   "outputs": [],
   "source": [
    "final_window"
   ]
  },
  {
   "cell_type": "code",
   "execution_count": null,
   "metadata": {},
   "outputs": [],
   "source": []
  },
  {
   "cell_type": "code",
   "execution_count": null,
   "metadata": {},
   "outputs": [],
   "source": [
    "pickel_out1 = open('window22.pickle','wb')\n",
    "pickle.dump(final_window,pickel_out1)\n",
    "pickel_out1.close()"
   ]
  },
  {
   "cell_type": "markdown",
   "metadata": {},
   "source": [
    "# Plotting user data after and before resampling"
   ]
  },
  {
   "cell_type": "code",
   "execution_count": null,
   "metadata": {},
   "outputs": [],
   "source": [
    "time = np.linspace(0,frame.index[-1]+1,frame.index[-1]+1)\n",
    "plt.rcParams['figure.figsize']=(20,10)\n",
    "plt.figure()\n",
    "#plt.subplot(1,3,1)\n",
    "plt.plot(time,frame.iloc[0:(frame.index[-1]+1)].x.values,'r.-',markersize=5,label='X')\n",
    "#ax = plt.gca()\n",
    "#ax.set_ylim([-12,12])\n",
    "#ax.set_xlim([0,100])\n",
    "#plt.subplot(1,3,2)\n",
    "##plt.plot(time,dff22.iloc[20000:21000].y.values,'b.-',markersize=5,label='Y')\n",
    "#ax = plt.gca()\n",
    "#ax.set_ylim([-12,12])\n",
    "#ax.set_xlim([0,100])\n",
    "#plt.subplot(1,3,3)\n",
    "##plt.plot(time,dff22.iloc[20000:21000].z.values,'g.-',markersize=5,label='Z')\n",
    "plt.legend(loc='best')\n",
    "ax = plt.gca()\n",
    "ax.set_ylim([-30,30])\n",
    "ax.set_xlim([0,frame.index[-1]+1])\n",
    "plt.show()"
   ]
  },
  {
   "cell_type": "code",
   "execution_count": null,
   "metadata": {},
   "outputs": [],
   "source": [
    "time = np.linspace(0,user.index[-1]+1,user.index[-1]+1)\n",
    "plt.rcParams['figure.figsize']=(20,10)\n",
    "plt.figure()\n",
    "#plt.subplot(1,3,1)\n",
    "plt.plot(time,user.iloc[0:user.index[-1]+1].x.values,'r.-',markersize=5,label='X')\n",
    "#ax = plt.gca()\n",
    "#ax.set_ylim([-12,12])\n",
    "#ax.set_xlim([0,100])\n",
    "#plt.subplot(1,3,2)\n",
    "##plt.plot(time,dff22.iloc[20000:21000].y.values,'b.-',markersize=5,label='Y')\n",
    "#ax = plt.gca()\n",
    "#ax.set_ylim([-12,12])\n",
    "#ax.set_xlim([0,100])\n",
    "#plt.subplot(1,3,3)\n",
    "##plt.plot(time,dff22.iloc[20000:21000].z.values,'g.-',markersize=5,label='Z')\n",
    "plt.legend(loc='best')\n",
    "ax = plt.gca()\n",
    "ax.set_ylim([-25,25])\n",
    "ax.set_xlim([0,user.index[-1]+1])\n",
    "plt.show()"
   ]
  },
  {
   "cell_type": "code",
   "execution_count": null,
   "metadata": {},
   "outputs": [],
   "source": [
    "\n"
   ]
  }
 ],
 "metadata": {
  "kernelspec": {
   "display_name": "Python 3",
   "language": "python",
   "name": "python3"
  },
  "language_info": {
   "codemirror_mode": {
    "name": "ipython",
    "version": 3
   },
   "file_extension": ".py",
   "mimetype": "text/x-python",
   "name": "python",
   "nbconvert_exporter": "python",
   "pygments_lexer": "ipython3",
   "version": "3.8.3"
  }
 },
 "nbformat": 4,
 "nbformat_minor": 4
}
