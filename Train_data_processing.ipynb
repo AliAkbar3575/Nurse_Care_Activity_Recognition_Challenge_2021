{
 "cells": [
  {
   "cell_type": "code",
   "execution_count": null,
   "metadata": {},
   "outputs": [],
   "source": [
    "%reset\n"
   ]
  },
  {
   "cell_type": "code",
   "execution_count": null,
   "metadata": {},
   "outputs": [],
   "source": [
    "import pandas as pd\n",
    "import numpy as np\n",
    "from tqdm import tqdm\n",
    "import datetime as dt\n",
    "from matplotlib import pyplot as plt\n",
    "from scipy import signal\n",
    "from scipy.signal import butter, lfilter, freqz,filtfilt, welch,find_peaks\n",
    "from scipy.fft import fft \n",
    "from scipy.special import entr\n",
    "from scipy.stats import kurtosis,skew,entropy\n",
    "from scipy.stats.stats import pearsonr \n",
    "from scipy.fftpack import fft\n",
    "import math\n",
    "import time\n",
    "import seaborn as sns\n",
    "import pickle\n",
    "from statistics import stdev\n",
    "from statistics import variance\n",
    "import random\n",
    "from detecta import detect_peaks\n",
    "import pywt "
   ]
  },
  {
   "cell_type": "markdown",
   "metadata": {},
   "source": [
    "# Train data loading\n"
   ]
  },
  {
   "cell_type": "code",
   "execution_count": null,
   "metadata": {},
   "outputs": [],
   "source": [
    "\n",
    "df = pd.read_csv(\"acc_user2.csv\")\n",
    "df = df.drop(['Unnamed: 0'],axis=1)\n",
    "print('\\n\\nHead:\\n\\n',df.head())\n",
    "print('\\n\\nTail:\\n\\n',df.tail())\n",
    "\n",
    "print('\\n\\nShape: ' , df.shape)\n"
   ]
  },
  {
   "cell_type": "markdown",
   "metadata": {},
   "source": [
    "# Checking Null and duplicate value and clean them"
   ]
  },
  {
   "cell_type": "code",
   "execution_count": null,
   "metadata": {},
   "outputs": [],
   "source": [
    "print('\\n\\nNumber of null values :' ,df.isna().sum())\n",
    "print('\\n\\nNumber of duplicate data :',df.duplicated().sum())"
   ]
  },
  {
   "cell_type": "code",
   "execution_count": null,
   "metadata": {},
   "outputs": [],
   "source": [
    "df.dropna(inplace=True)\n",
    "dfnew=df.drop_duplicates(keep='first')\n",
    "print('\\n\\nAfter cleaning null data and duplicate data shape is :',dfnew.shape)"
   ]
  },
  {
   "cell_type": "markdown",
   "metadata": {},
   "source": [
    "# Converting timezone into UTC"
   ]
  },
  {
   "cell_type": "code",
   "execution_count": null,
   "metadata": {},
   "outputs": [],
   "source": [
    "dfnew.datetime = pd.to_datetime(dfnew.datetime)\n",
    "dfnew.set_index('datetime', inplace =True)\n",
    "dfnew = dfnew.tz_convert(tz='UTC')\n",
    "dfnew.reset_index(inplace=True)\n",
    "user = dfnew.copy()\n",
    "user_id = input('Give the User_id no : ')\n",
    "\n",
    "user['User_id'] = int(user_id)\n",
    "print('\\n\\nAfter changing the timzone to UTC and adding the User_id column: ')\n",
    "print('\\nHead :\\n\\n',user.head())\n",
    "print('Tail :\\n\\n',user.tail())\n",
    "print('\\n Shape : \\n', user.shape)\n"
   ]
  },
  {
   "cell_type": "code",
   "execution_count": null,
   "metadata": {},
   "outputs": [],
   "source": [
    "user=user.sort_values(by='datetime').reset_index(drop=True)\n",
    "#df.set_index('datetime',inplace=True)\n",
    "print('\\n\\nAfter sorting by the \\'datetime\\' column :')\n",
    "print('\\nHead :\\n\\n',user.head())\n",
    "print('\\nTail :\\n\\n',user.tail())\n",
    "print('\\n\\n Shape:',user.shape)"
   ]
  },
  {
   "cell_type": "markdown",
   "metadata": {},
   "source": [
    "# Loading and preocessing label data"
   ]
  },
  {
   "cell_type": "code",
   "execution_count": null,
   "metadata": {},
   "outputs": [],
   "source": [
    "label= pd.read_csv('label_train.csv')\n",
    "label.start = pd.to_datetime(label.start)\n",
    "label.set_index('start', inplace =True)\n",
    "label = label.tz_convert(tz='UTC')\n",
    "label.reset_index(inplace=True)\n",
    "label.finish = pd.to_datetime(label.finish)\n",
    "label.set_index('finish', inplace =True)\n",
    "label = label.tz_convert(tz='UTC')\n",
    "label.reset_index(inplace=True)\n",
    "print('\\n \\n Label data before cleaning :\\n\\n')\n",
    "print('Label Head: \\n\\n\\n',label.head())\n",
    "print('Label Tail: \\n\\n\\n',label.tail())\n",
    "print('\\n\\n Shape:', label.shape)\n",
    "label = label.drop(['id','role','activity_type','date','target_id','activity2user_id','target_role'],axis=1)\n",
    "label.dropna(inplace=True)\n",
    "label = label.drop_duplicates()\n",
    "\n",
    "\n",
    "label1 = label[label.start==label.finish]\n",
    "label2 = label[label.start != label.finish]\n",
    "nots = dt.timedelta(seconds=59) \n",
    "label1.finish = label.finish + nots\n",
    "label = label1.append(label2, ignore_index=True, sort=True)\n",
    "\n",
    "label = label.reset_index(drop=True)\n",
    "label = label.sort_values(by='start')\n",
    "label = label.reset_index(drop = True)\n",
    "\n",
    "label['finish']=pd.to_datetime(label['finish'])\n",
    "label['start']=pd.to_datetime(label['start'])\n",
    "print('\\n\\n Label data after cleaning : \\n\\n')\n",
    "print('Label Head: \\n\\n\\n',label.head())\n",
    "print('Label Tail: \\n\\n\\n',label.tail())\n",
    "print('\\n Shape:', label.shape)"
   ]
  },
  {
   "cell_type": "code",
   "execution_count": null,
   "metadata": {},
   "outputs": [],
   "source": [
    "label.activity_type_id.value_counts()"
   ]
  },
  {
   "cell_type": "markdown",
   "metadata": {},
   "source": [
    "# Checking the class imbalance in label data"
   ]
  },
  {
   "cell_type": "code",
   "execution_count": null,
   "metadata": {},
   "outputs": [],
   "source": [
    "activity_map = {\n",
    "1: \"Vital\", \n",
    "2: \"Meal / medication\", \n",
    "3: \"Oral care\", \n",
    "4: \"Excretion\", \n",
    "5: \"Bathing / wiping\",\n",
    "6: \"Treatment\", \n",
    "7: \"Morning gathering / exercises\", \n",
    "8: \"Rehabilitation / recreation\", \n",
    "9: \"Morning care\", \n",
    "10: \"Daytime user response\", \n",
    "11: \"Night care\", \n",
    "12: \"Nighttime user response\", \n",
    "13: \"Family / guest response\", \n",
    "14: \"Outing response\", \n",
    "19: \"Get up assistance\", \n",
    "20: \"Change dressing assistance\", \n",
    "21: \"Washing assistance\", \n",
    "27: \"Emergency response such as accident\",\n",
    "15: \"Linen exchange\", \n",
    "16: \"Cleaning\",\n",
    "23: \"Preparation and checking of goods\", \n",
    "24: \"Organization of medications\",\n",
    "17: \"Handwriting recording\", \n",
    "18: \"Delegating / meeting\", \n",
    "22: \"Doctor visit correspondence\", \n",
    "25: \"Family / doctor contact\",\n",
    "26: \"Break\", \n",
    "28: \"Special remarks / notes\"\n",
    "}\n",
    "\n",
    "label[\"activity_type_e\"]=label[\"activity_type_id\"].map(activity_map)\n",
    "label['activity_type_e'].value_counts().plot.bar()"
   ]
  },
  {
   "cell_type": "markdown",
   "metadata": {},
   "source": [
    "# Checking where difference of timestamp is greater than 2 mins"
   ]
  },
  {
   "cell_type": "code",
   "execution_count": null,
   "metadata": {},
   "outputs": [],
   "source": [
    "user=user.sort_values(by='datetime').reset_index(drop=True)\n",
    "com = dt.timedelta(seconds=120)\n",
    "user['datetime']=pd.to_datetime(user['datetime'])\n",
    "d = user['datetime'].diff(periods=1)\n",
    "breaki = user[(user['datetime'].diff(periods=1)>=com)] \n",
    "breaki=breaki.sort_values(by='datetime')\n",
    "print('\\n\\nData that have \\'timestamp\\' difference with the previous data more than the desire value :  \\n\\n')\n",
    "print(breaki.head())\n",
    "print(breaki.tail())\n",
    "print('\\n\\nShape :',breaki.shape)"
   ]
  },
  {
   "cell_type": "markdown",
   "metadata": {},
   "source": [
    "# Creating new DF where timestamp difference is larger than 2 mins "
   ]
  },
  {
   "cell_type": "code",
   "execution_count": null,
   "metadata": {},
   "outputs": [],
   "source": [
    "d ={}\n",
    "new=0\n",
    "count=0\n",
    "for i in tqdm(breaki.index):\n",
    "    print (i)\n",
    "    d[count] = pd.DataFrame()\n",
    "    d[count]=user.loc[new:i-1]\n",
    "    new = i\n",
    "    count+=1\n",
    "    if (i==breaki.index[-1]):\n",
    "        d[count] = user.loc[new:]\n",
    "    "
   ]
  },
  {
   "cell_type": "code",
   "execution_count": null,
   "metadata": {},
   "outputs": [],
   "source": [
    "for i in tqdm(range(len(d))):\n",
    "    print('d',i,'\\n')\n",
    "    print('head:',d[i].head())\n",
    "    print('tail:',d[i].tail())\n",
    "    print('Shape:',d[i].shape,'\\n')\n"
   ]
  },
  {
   "cell_type": "markdown",
   "metadata": {},
   "source": [
    "# Checking how many rows each new DF holds "
   ]
  },
  {
   "cell_type": "code",
   "execution_count": null,
   "metadata": {},
   "outputs": [],
   "source": [
    "#d3 = pd.Timestamp('2018-06-16 04:46:01.849000+00:00')\n",
    "#delt = time.mktime(d3.timetuple())\n",
    "#print(delt)\n",
    "vlo =0\n",
    "kharap=0\n",
    "#print(len(d))\n",
    "for i in tqdm(range(len(d))):\n",
    "    if (len(d[i])<=5):\n",
    "        vlo+=1\n",
    "        if (d[i][\"datetime\"].nunique()==1):\n",
    "            kharap+=1\n",
    "        else:\n",
    "            continue\n",
    "    else : \n",
    "        continue\n",
    "print('Number of DataFrame with only one data :', kharap)\n",
    "print('Number of DataFrame with less or equal 5 data :', vlo)"
   ]
  },
  {
   "cell_type": "markdown",
   "metadata": {},
   "source": [
    "# Resampling"
   ]
  },
  {
   "cell_type": "code",
   "execution_count": null,
   "metadata": {},
   "outputs": [],
   "source": [
    "\n",
    "#unsampled1 = user1.resample('0.05S')\n",
    "#inter1 = unsampled1.interpolate(method = 'spline',order=2)\n",
    "#print(inter1.head())\n",
    "\n",
    "\n",
    "\n",
    "\n",
    "#####x=df3['x'].to_numpy\n",
    "delt = {}\n",
    "f = {}\n",
    "frame=pd.DataFrame()\n",
    "\n",
    "if breaki.empty:\n",
    "    print('\\n\\n This user has no data with datetime differance larger than that we desired\\n\\n ')\n",
    "    lopa = pd.Timestamp(user['datetime'].iloc[-1])- pd.Timestamp(user[\"datetime\"].iloc[0])\n",
    "    lopa = lopa.total_seconds()\n",
    "    lopa = (lopa*20)+1\n",
    "    lopa = math.ceil(lopa)\n",
    "    print('\\n\\n Number of total data in section {} is {}'. format(1,lopa))\n",
    "    user['datetime']=pd.to_datetime(user['datetime'])\n",
    "    frame['x']= signal.resample(user['x'],lopa)\n",
    "    frame['y']=signal.resample(user['y'],lopa)\n",
    "    frame['z']=signal.resample(user['z'],lopa)\n",
    "    frame['datetime'] = pd.date_range(start=pd.Timestamp(user[\"datetime\"].iloc[0]),periods=lopa ,freq='0.05S')\n",
    "    print('\\n\\n Number of row of datetime of section {0} is {1} '.format(1,frame.datetime.nunique()))\n",
    "    print('\\nSection : 1\\n')\n",
    "    print('\\n\\n Head : \\n\\n',frame.head())\n",
    "    print('\\n\\n Tail : \\n\\n',frame.tail())\n",
    "    print('\\n Shape:',frame.shape)\n",
    "else :\n",
    "    \n",
    "    for i in tqdm(range(len(d))):\n",
    "        \n",
    "        if (pd.Timestamp(d[i]['datetime'].iloc[-1]) != pd.Timestamp(d[i][\"datetime\"].iloc[0])):\n",
    "        \n",
    "            delt[i] = pd.Timestamp(d[i]['datetime'].iloc[-1])- pd.Timestamp(d[i][\"datetime\"].iloc[0])\n",
    "            delt[i] = delt[i].total_seconds()\n",
    "            delt[i] = (delt[i]*20)+1\n",
    "            delt[i]=math.ceil(delt[i])\n",
    "            print('\\n\\n Number of total data in section {} is {}'. format(i,delt[i]))\n",
    "            f[i] = pd.DataFrame()\n",
    "            d[i]['datetime']=pd.to_datetime(d[i]['datetime'])\n",
    "        \n",
    "            #(f[i]['x'],f[i]['datetime'])= signal.resample(d[i]['x'],delt[i],d[i]['datetime'])\n",
    "            f[i]['x']= signal.resample(d[i]['x'],delt[i])\n",
    "            f[i]['y']=signal.resample(d[i]['y'],delt[i])\n",
    "            f[i]['z']=signal.resample(d[i]['z'],delt[i])\n",
    "            #f[i]['User_id'] = d[i]['User_id']\n",
    "            f[i]['datetime'] = pd.date_range(start=pd.Timestamp(d[i][\"datetime\"].iloc[0]),periods=delt[i] ,freq='0.05S')\n",
    "            print('\\n\\n Number of row of datetime of section {0} is {1} '.format(i,f[i].datetime.nunique()))\n",
    "            print('\\nSection', i ,'\\n')\n",
    "            print('\\n\\n Head : \\n\\n',f[i].head())\n",
    "            print('\\n\\n Tail : \\n\\n',f[i].tail())\n",
    "            print('\\n Shape:',f[i].shape)\n",
    "        \n",
    "        elif (pd.Timestamp(d[i]['datetime'].iloc[-1]) == pd.Timestamp(d[i][\"datetime\"].iloc[0])):\n",
    "            #f[i] = d[i]\n",
    "            print('\\n Here is  a single row')\n",
    "            continue\n",
    "            #print('\\nSection', i+1 ,'\\n')\n",
    "            #print(f[i].head())\n",
    "            #print(f[i].tail())\n",
    "            #print('\\n Shape:',f[i].shape)\n",
    "        frame = frame.append([f[i]], ignore_index=False, sort=True)        \n",
    "id_no = input('Give the User_id no : ')\n",
    "frame['User_id'] = int(id_no)\n",
    "frame.dropna(inplace=True)\n",
    "frame=frame.drop_duplicates()\n",
    "frame=frame.sort_values(by='datetime').reset_index(drop=True)\n",
    "frame.datetime = pd.to_datetime(frame.datetime)\n",
    "print('\\nAfter concatanation :\\n Head:\\n \\n \\n ',frame.head())\n",
    "print('\\nTail:\\n\\n\\n',frame.tail())\n",
    "print('\\nShape: ',frame.shape)"
   ]
  },
  {
   "cell_type": "markdown",
   "metadata": {},
   "source": [
    "# Plotting the user data after and before resampling"
   ]
  },
  {
   "cell_type": "code",
   "execution_count": null,
   "metadata": {},
   "outputs": [],
   "source": [
    "time = np.linspace(0,frame.index[-1]+1,frame.index[-1]+1)\n",
    "plt.rcParams['figure.figsize']=(20,10)\n",
    "plt.figure()\n",
    "#plt.subplot(1,3,1)\n",
    "plt.plot(time,frame.iloc[0:(frame.index[-1]+1)].x.values,'r.-',markersize=5,label='X')\n",
    "#ax = plt.gca()\n",
    "#ax.set_ylim([-12,12])\n",
    "#ax.set_xlim([0,100])\n",
    "#plt.subplot(1,3,2)\n",
    "##plt.plot(time,dff22.iloc[20000:21000].y.values,'b.-',markersize=5,label='Y')\n",
    "#ax = plt.gca()\n",
    "#ax.set_ylim([-12,12])\n",
    "#ax.set_xlim([0,100])\n",
    "#plt.subplot(1,3,3)\n",
    "##plt.plot(time,dff22.iloc[20000:21000].z.values,'g.-',markersize=5,label='Z')\n",
    "plt.legend(loc='best')\n",
    "ax = plt.gca()\n",
    "ax.set_ylim([-30,30])\n",
    "ax.set_xlim([0,frame.index[-1]+1])\n",
    "plt.show()"
   ]
  },
  {
   "cell_type": "code",
   "execution_count": null,
   "metadata": {},
   "outputs": [],
   "source": [
    "time = np.linspace(0,user.index[-1]+1,user.index[-1]+1)\n",
    "plt.rcParams['figure.figsize']=(20,10)\n",
    "plt.figure()\n",
    "#plt.subplot(1,3,1)\n",
    "plt.plot(time,user.iloc[0:user.index[-1]+1].x.values,'r.-',markersize=5,label='X')\n",
    "#ax = plt.gca()\n",
    "#ax.set_ylim([-12,12])\n",
    "#ax.set_xlim([0,100])\n",
    "#plt.subplot(1,3,2)\n",
    "##plt.plot(time,dff22.iloc[20000:21000].y.values,'b.-',markersize=5,label='Y')\n",
    "#ax = plt.gca()\n",
    "#ax.set_ylim([-12,12])\n",
    "#ax.set_xlim([0,100])\n",
    "#plt.subplot(1,3,3)\n",
    "##plt.plot(time,dff22.iloc[20000:21000].z.values,'g.-',markersize=5,label='Z')\n",
    "plt.legend(loc='best')\n",
    "ax = plt.gca()\n",
    "ax.set_ylim([-25,25])\n",
    "ax.set_xlim([0,user.index[-1]+1])\n",
    "plt.show()"
   ]
  },
  {
   "cell_type": "markdown",
   "metadata": {},
   "source": [
    "# Mapping the user data with label data"
   ]
  },
  {
   "cell_type": "code",
   "execution_count": null,
   "metadata": {},
   "outputs": [],
   "source": [
    "frame.datetime = pd.to_datetime(frame.datetime)\n",
    "data_new = pd.DataFrame()\n",
    "take_count = 0\n",
    "\n",
    "for i in tqdm(range(len(label))):\n",
    "    mask = (label.loc[i,'start'] <= frame.datetime) & (frame.datetime <= label.loc[i,'finish']) & (frame.User_id == label.loc[i,'user_id'])\n",
    "    part = frame.loc[mask].assign(take=take_count, label=label.loc[i,'activity_type_id'])\n",
    "    data_new = data_new.append(part,ignore_index=True)\n",
    "    if (part.empty == False):\n",
    "        take_count = take_count + 1"
   ]
  },
  {
   "cell_type": "code",
   "execution_count": null,
   "metadata": {},
   "outputs": [],
   "source": [
    "data_new.head()"
   ]
  },
  {
   "cell_type": "code",
   "execution_count": null,
   "metadata": {},
   "outputs": [],
   "source": [
    "data_new.shape"
   ]
  },
  {
   "cell_type": "code",
   "execution_count": null,
   "metadata": {},
   "outputs": [],
   "source": [
    "data_new.label.value_counts()"
   ]
  },
  {
   "cell_type": "markdown",
   "metadata": {},
   "source": [
    "# Saving the labelled csv file and finally concating all the labelled csv file "
   ]
  },
  {
   "cell_type": "code",
   "execution_count": null,
   "metadata": {},
   "outputs": [],
   "source": [
    "data_new.to_csv('data5.csv',index = False)"
   ]
  },
  {
   "cell_type": "code",
   "execution_count": null,
   "metadata": {},
   "outputs": [],
   "source": [
    "check={}\n",
    "check[0] = pd.read_csv('data2.csv')\n",
    "check[0].datetime = pd.to_datetime(check[0].datetime)\n",
    "check[1] = pd.read_csv('data3.csv')\n",
    "check[1].datetime = pd.to_datetime(check[1].datetime)\n",
    "check[2] = pd.read_csv('data4.csv')\n",
    "check[2].datetime = pd.to_datetime(check[2].datetime)\n",
    "check[3] = pd.read_csv('data5.csv')\n",
    "check[3].datetime = pd.to_datetime(check[3].datetime)\n",
    "check[4] = pd.read_csv('data6.csv')\n",
    "check[4].datetime = pd.to_datetime(check[4].datetime)\n",
    "check[5] = pd.read_csv('data7.csv')\n",
    "check[5].datetime = pd.to_datetime(check[5].datetime)\n",
    "check[6] = pd.read_csv('data9.csv')\n",
    "check[6].datetime = pd.to_datetime(check[6].datetime)\n",
    "check[7] = pd.read_csv('data12.csv')\n",
    "check[7].datetime = pd.to_datetime(check[7].datetime)\n",
    "check[8] = pd.read_csv('data17.csv')\n",
    "check[8].datetime = pd.to_datetime(check[8].datetime)\n",
    "check[9] = pd.read_csv('data19.csv')\n",
    "check[9].datetime = pd.to_datetime(check[9].datetime)\n",
    "check[10] = pd.read_csv('data21.csv')\n",
    "check[10].datetime = pd.to_datetime(check[10].datetime)\n",
    "check[11] = pd.read_csv('data22.csv')\n",
    "check[11].datetime = pd.to_datetime(check[11].datetime)\n"
   ]
  },
  {
   "cell_type": "code",
   "execution_count": null,
   "metadata": {},
   "outputs": [],
   "source": [
    "data=pd.DataFrame()\n",
    "for i in tqdm(range(len(check))):\n",
    "    data = data.append([check[i]], ignore_index=True, sort=True)"
   ]
  },
  {
   "cell_type": "code",
   "execution_count": null,
   "metadata": {},
   "outputs": [],
   "source": []
  },
  {
   "cell_type": "code",
   "execution_count": null,
   "metadata": {},
   "outputs": [],
   "source": []
  }
 ],
 "metadata": {
  "kernelspec": {
   "display_name": "Python 3",
   "language": "python",
   "name": "python3"
  },
  "language_info": {
   "codemirror_mode": {
    "name": "ipython",
    "version": 3
   },
   "file_extension": ".py",
   "mimetype": "text/x-python",
   "name": "python",
   "nbconvert_exporter": "python",
   "pygments_lexer": "ipython3",
   "version": "3.7.6"
  }
 },
 "nbformat": 4,
 "nbformat_minor": 4
}
