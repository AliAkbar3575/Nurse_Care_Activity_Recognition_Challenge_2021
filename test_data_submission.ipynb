{
 "cells": [
  {
   "cell_type": "code",
   "execution_count": null,
   "metadata": {},
   "outputs": [],
   "source": [
    "%reset"
   ]
  },
  {
   "cell_type": "code",
   "execution_count": null,
   "metadata": {},
   "outputs": [],
   "source": [
    "import pandas as pd\n",
    "import numpy as np\n",
    "from tqdm import tqdm\n",
    "import datetime as dt\n",
    "from matplotlib import pyplot as plt\n",
    "from scipy import signal\n",
    "from scipy.signal import butter, lfilter, freqz,filtfilt, welch,find_peaks\n",
    "from scipy.fft import fft \n",
    "from scipy.special import entr\n",
    "from scipy.stats import kurtosis,skew,entropy\n",
    "from scipy.stats.stats import pearsonr \n",
    "from scipy.fftpack import fft\n",
    "import math\n",
    "import time\n",
    "import seaborn as sns\n",
    "import pickle\n",
    "from statistics import stdev\n",
    "from statistics import variance\n",
    "import random\n",
    "from detecta import detect_peaks\n",
    "import pywt "
   ]
  },
  {
   "cell_type": "code",
   "execution_count": null,
   "metadata": {},
   "outputs": [],
   "source": [
    "df = pd.read_csv(\"acc_user4.csv\")\n",
    "df = df.drop(['Unnamed: 0'],axis=1)\n",
    "print('\\n\\nHead:\\n\\n',df.head())\n",
    "print('\\n\\nTail:\\n\\n',df.tail())\n",
    "print('\\n\\nShape: ' , df.shape)\n"
   ]
  },
  {
   "cell_type": "code",
   "execution_count": null,
   "metadata": {},
   "outputs": [],
   "source": [
    "df.dropna(inplace=True)\n",
    "dfnew=df.drop_duplicates(keep='first')\n",
    "print('\\n\\nAfter cleaning null data and duplicate data shape is :',dfnew.shape)"
   ]
  },
  {
   "cell_type": "code",
   "execution_count": null,
   "metadata": {},
   "outputs": [],
   "source": [
    "dfnew.datetime = pd.to_datetime(dfnew.datetime)\n",
    "dfnew.set_index('datetime', inplace =True)\n",
    "dfnew = dfnew.tz_convert(tz='UTC')\n",
    "dfnew.reset_index(inplace=True)\n",
    "user = dfnew.copy()\n",
    "user_id = input('Give the User_id no : ')\n",
    "\n",
    "user['user_id'] = int(user_id)\n",
    "print('\\n\\nAfter changing the timzone to UTC and adding the User_id column: ')\n",
    "print('\\nHead :\\n\\n',user.head())\n",
    "print('Tail :\\n\\n',user.tail())\n",
    "print('\\n Shape : \\n', user.shape)\n"
   ]
  },
  {
   "cell_type": "code",
   "execution_count": null,
   "metadata": {},
   "outputs": [],
   "source": [
    "user=user.sort_values(by='datetime').reset_index(drop=True)\n",
    "#df.set_index('datetime',inplace=True)\n",
    "print('\\n\\nAfter sorting by the \\'datetime\\' column :')\n",
    "print('\\nHead :\\n\\n',user.head())\n",
    "print('\\nTail :\\n\\n',user.tail())\n",
    "print('\\n\\n Shape:',user.shape)"
   ]
  },
  {
   "cell_type": "code",
   "execution_count": null,
   "metadata": {
    "scrolled": true
   },
   "outputs": [],
   "source": [
    "#pickel_in1 = open('feature_user2.pickle','rb')\n",
    "#feature1 = pickle.load(pickel_in1)\n",
    "#feature1"
   ]
  },
  {
   "cell_type": "code",
   "execution_count": null,
   "metadata": {},
   "outputs": [],
   "source": [
    "sub1"
   ]
  },
  {
   "cell_type": "code",
   "execution_count": null,
   "metadata": {},
   "outputs": [],
   "source": [
    "sub1 = pd.read_csv(\"submission4.csv\")"
   ]
  },
  {
   "cell_type": "code",
   "execution_count": null,
   "metadata": {},
   "outputs": [],
   "source": [
    "sub1.start = pd.to_datetime(sub1.start)\n",
    "sub1.set_index('start', inplace =True)\n",
    "sub1 = sub1.tz_convert(tz='UTC')\n",
    "sub1.reset_index(inplace=True)\n",
    "sub1.finish = pd.to_datetime(sub1.finish)\n",
    "sub1.set_index('finish', inplace =True)\n",
    "sub1 = sub1.tz_convert(tz='UTC')\n",
    "sub1.reset_index(inplace=True)\n",
    "print('\\n \\n Label data before cleaning :\\n\\n')\n",
    "print('Label Head: \\n\\n\\n',sub1.head())\n",
    "print('Label Tail: \\n\\n\\n',sub1.tail())\n",
    "print('\\n\\n Shape:', sub1.shape)\n",
    "\n",
    "sub1 = sub1.sort_values(by='start')\n",
    "sub1 = sub1.reset_index(drop = True)\n",
    "\n",
    "sub1['finish']=pd.to_datetime(sub1['finish'])\n",
    "sub1['start']=pd.to_datetime(sub1['start'])\n",
    "print('\\n\\n Label data after cleaning : \\n\\n')\n",
    "print('Label Head: \\n\\n\\n',sub1.head())\n",
    "print('Label Tail: \\n\\n\\n',sub1.tail())\n",
    "print('\\n Shape:', sub1.shape)\n",
    "\n",
    "sub1 = sub1.sort_values(by='start').reset_index(drop=True)"
   ]
  },
  {
   "cell_type": "code",
   "execution_count": null,
   "metadata": {},
   "outputs": [],
   "source": [
    "user.datetime = pd.to_datetime(user.datetime)\n",
    "data_new = pd.DataFrame()\n",
    "\n",
    "for i in tqdm(range(len(sub1))):\n",
    "    mask = (sub1.loc[i,'start'] <= user.datetime) & (user.datetime <= sub1.loc[i,'finish']) & (user.user_id == sub1.loc[i,'user_id'])\n",
    "    part = user.loc[mask].assign(activity_id = sub1.loc[i,'activity_id'])\n",
    "    data_new = data_new.append(part,ignore_index=True)"
   ]
  },
  {
   "cell_type": "code",
   "execution_count": null,
   "metadata": {},
   "outputs": [],
   "source": [
    "ura = data_new.copy()"
   ]
  },
  {
   "cell_type": "code",
   "execution_count": null,
   "metadata": {},
   "outputs": [],
   "source": [
    "ura = ura.drop(['x','y','z'],axis = 1)"
   ]
  }
 ],
 "metadata": {
  "kernelspec": {
   "display_name": "Python 3",
   "language": "python",
   "name": "python3"
  },
  "language_info": {
   "codemirror_mode": {
    "name": "ipython",
    "version": 3
   },
   "file_extension": ".py",
   "mimetype": "text/x-python",
   "name": "python",
   "nbconvert_exporter": "python",
   "pygments_lexer": "ipython3",
   "version": "3.8.3"
  }
 },
 "nbformat": 4,
 "nbformat_minor": 4
}
