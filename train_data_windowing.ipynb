{
 "cells": [
  {
   "cell_type": "code",
   "execution_count": null,
   "metadata": {},
   "outputs": [],
   "source": [
    "%reset"
   ]
  },
  {
   "cell_type": "code",
   "execution_count": null,
   "metadata": {},
   "outputs": [],
   "source": [
    "import pandas as pd\n",
    "import numpy as np\n",
    "from tqdm import tqdm\n",
    "import datetime as dt\n",
    "from matplotlib import pyplot as plt\n",
    "from scipy import signal\n",
    "from scipy.signal import butter, lfilter, freqz,filtfilt, welch,find_peaks\n",
    "from scipy.fft import fft \n",
    "from scipy.special import entr\n",
    "from scipy.stats import kurtosis,skew,entropy\n",
    "from scipy.stats.stats import pearsonr \n",
    "from scipy.fftpack import fft\n",
    "import math\n",
    "import time\n",
    "import seaborn as sns\n",
    "import pickle\n",
    "from statistics import stdev\n",
    "from statistics import variance\n",
    "import random\n",
    "from detecta import detect_peaks\n",
    "import pywt "
   ]
  },
  {
   "cell_type": "code",
   "execution_count": null,
   "metadata": {},
   "outputs": [],
   "source": [
    "data = pd.read_csv('all_user.csv')\n",
    "data.label.value_counts()\n",
    "print(data.shape)"
   ]
  },
  {
   "cell_type": "code",
   "execution_count": null,
   "metadata": {},
   "outputs": [],
   "source": [
    "data.datetime = pd.to_datetime(data.datetime)\n",
    "data.set_index('datetime', inplace =True)\n",
    "data = data.tz_convert(tz='UTC')\n",
    "data = data.sort_values(by='datetime')\n",
    "data.reset_index(inplace=True)\n",
    "data.head()"
   ]
  },
  {
   "cell_type": "code",
   "execution_count": null,
   "metadata": {},
   "outputs": [],
   "source": [
    "plt.plot(data.loc[0:400,'x'])"
   ]
  },
  {
   "cell_type": "code",
   "execution_count": null,
   "metadata": {},
   "outputs": [],
   "source": [
    "#mag1 = (data['x']**2 + data['y']**2 + data['z']**2)**(1/2)\n",
    "#data['magnitude'] = mag1\n",
    "#print(data.head())\n",
    "#print(data.shape)"
   ]
  },
  {
   "cell_type": "code",
   "execution_count": null,
   "metadata": {},
   "outputs": [],
   "source": [
    "#def butter_lowpass(cutoff, samp_freq, order = 3):\n",
    " #   nyq_freq = 0.5 * samp_freq\n",
    "  #  normal_cutoff = cutoff/nyq_freq\n",
    "   # b,a = butter(order, normal_cutoff, btype = 'lowpass', analog = False)\n",
    "   # return b, a\n",
    "\n",
    "#def butter_lowpass_filter(data, cutoff, samp_freq, order = 3):\n",
    " #   b, a = butter_lowpass(cutoff, samp_freq, order)\n",
    " #   y = filtfilt(b, a, data)\n",
    " #   return y\n",
    "\n",
    "#order = 3\n",
    "#cutoff = 1\n",
    "#samp_freq = 20\n",
    "#b, a = butter_lowpass(cutoff, samp_freq, order)\n",
    "\n",
    "#gra_x1 = butter_lowpass_filter(data.x, cutoff, samp_freq, order=3)\n",
    "#gra_y1 = butter_lowpass_filter(data.y, cutoff, samp_freq, order=3)\n",
    "#gra_z1 = butter_lowpass_filter(data.z, cutoff, samp_freq, order=3)\n",
    "#gra_mag1 = butter_lowpass_filter(data.magnitude, cutoff, samp_freq, order=3)\n",
    "\n",
    "\n",
    "\n",
    "#data['gra_x'] = gra_x1\n",
    "#data['gra_y'] = gra_y1\n",
    "#data['gra_z'] = gra_z1\n",
    "#data['gra_mag'] = gra_mag1\n",
    "\n",
    "\n"
   ]
  },
  {
   "cell_type": "code",
   "execution_count": null,
   "metadata": {},
   "outputs": [],
   "source": [
    "#def butter_highpass(cutoff, samp_freq, order = 3):\n",
    " #   nyq_freq = 0.5 * samp_freq\n",
    " #   normal_cutoff = cutoff/nyq_freq\n",
    " #   b,a = butter(order, normal_cutoff, btype = 'highpass', analog = False)\n",
    " #   return b, a\n",
    "\n",
    "#def butter_highpass_filter(data, cutoff, samp_freq, order = 3):\n",
    "#    b, a = butter_highpass(cutoff, samp_freq, order)\n",
    "#    y = filtfilt(b, a, data)\n",
    "#    return y\n",
    "\n",
    "#order = 3\n",
    "#cutoff = 1\n",
    "#samp_freq = 20\n",
    "#b, a = butter_highpass(cutoff, samp_freq, order)\n",
    "\n",
    "#body_x1 = butter_highpass_filter(data.x, cutoff, samp_freq, order=3)\n",
    "#body_y1 = butter_highpass_filter(data.y, cutoff, samp_freq, order=3)\n",
    "#body_z1 = butter_highpass_filter(data.z, cutoff, samp_freq, order=3)\n",
    "#body_mag1 = butter_highpass_filter(data.magnitude, cutoff, samp_freq, order=3)\n",
    "\n",
    "\n",
    "\n",
    "#data['body_x'] = body_x1\n",
    "#data['body_y'] = body_y1\n",
    "#data['body_z'] = body_z1\n",
    "#data['body_mag'] = body_mag1\n"
   ]
  },
  {
   "cell_type": "code",
   "execution_count": null,
   "metadata": {},
   "outputs": [],
   "source": []
  },
  {
   "cell_type": "code",
   "execution_count": null,
   "metadata": {},
   "outputs": [],
   "source": [
    "\n",
    "#time = 1/samp_freq\n",
    "    \n",
    "#data['jerk_x'] = (data.x.diff(periods = 1))/time\n",
    "#data['jerk_y'] = (data.y.diff(periods = 1))/time\n",
    "#data['jerk_z'] = (data.z.diff(periods = 1))/time\n",
    "#data['jerk_magnitude'] = (data.magnitude.diff(periods = 1))/time\n",
    "        \n",
    "#data['jerk_gra_x'] = (data.gra_x.diff(periods = 1))/time\n",
    "#data['jerk_gra_y'] = (data.gra_y.diff(periods = 1))/time\n",
    "#data['jerk_gra_z'] = (data.gra_z.diff(periods = 1))/time\n",
    "#data['jerk_gra_mag'] = (data.gra_mag.diff(periods = 1))/time\n",
    "        \n",
    "#data['jerk_body_x'] = (data.body_x.diff(periods = 1))/time\n",
    "#data['jerk_body_y'] = (data.body_y.diff(periods = 1))/time\n",
    "#data['jerk_body_z'] = (data.body_z.diff(periods = 1))/time\n",
    "#data['jerk_body_mag'] = (data.body_mag.diff(periods = 1))/time\n"
   ]
  },
  {
   "cell_type": "code",
   "execution_count": null,
   "metadata": {},
   "outputs": [],
   "source": []
  },
  {
   "cell_type": "code",
   "execution_count": null,
   "metadata": {},
   "outputs": [],
   "source": []
  },
  {
   "cell_type": "code",
   "execution_count": null,
   "metadata": {},
   "outputs": [],
   "source": []
  },
  {
   "cell_type": "code",
   "execution_count": null,
   "metadata": {},
   "outputs": [],
   "source": []
  },
  {
   "cell_type": "markdown",
   "metadata": {},
   "source": [
    "# Segmenting the total labelled data by different label"
   ]
  },
  {
   "cell_type": "code",
   "execution_count": null,
   "metadata": {},
   "outputs": [],
   "source": [
    "\n",
    "## Segmenting the total labelled data by  different label\n",
    "\n",
    "\n",
    "df = {}\n",
    "for i in tqdm(range(28)):\n",
    "    df[i+1] = data[(data['label'] == i+1)]\n",
    "    df[i+1].datetime = pd.to_datetime(df[i+1].datetime)\n",
    "    print('\\n\\n Label :',i+1)\n",
    "    print('\\n\\n Head:\\n\\n', df[i+1].head())\n",
    "    print('\\n\\n Tail:\\n\\n', df[i+1].tail())\n",
    "    print('\\n\\n Shape:\\n\\n', df[i+1].shape)"
   ]
  },
  {
   "cell_type": "markdown",
   "metadata": {},
   "source": [
    "# Segmenting each 'label-wise segmented' DF where frequency is not 20Hz"
   ]
  },
  {
   "cell_type": "code",
   "execution_count": null,
   "metadata": {},
   "outputs": [],
   "source": [
    "## Segmenting different label data where frequency is not 20Hz\n",
    "\n",
    "\n",
    "segment={}\n",
    "#d = df[1].datetime.diff(periods=1).nunique()\n",
    "#d\n",
    "for i in tqdm(range(len(df))):\n",
    "            df[i+1]=df[i+1].sort_values(by='datetime').reset_index(drop=True)\n",
    "            com1 = dt.timedelta(milliseconds=50)\n",
    "            df[i+1].datetime = pd.to_datetime(df[i+1].datetime)\n",
    "            segment[i+1] = df[i+1][(df[i+1].datetime.diff(periods=1)>com1)]\n",
    "            segment[i+1]=segment[i+1].sort_values(by='datetime')\n",
    "            print('\\n\\n Segmentated dataframe of label', i+1)\n",
    "            print(' That is segmentation of df ' , i+1)\n",
    "            print('\\n\\n Head : \\n',segment[i+1].head())\n",
    "            print('\\n\\n Tail : \\n',segment[i+1].tail())\n",
    "            print('\\n\\n Shape : ', segment[i+1].shape)\n"
   ]
  },
  {
   "cell_type": "markdown",
   "metadata": {},
   "source": [
    "# Checking if there is any label-wise segmented DF where there is no timestamp diff greater than 0.05sec\n"
   ]
  },
  {
   "cell_type": "code",
   "execution_count": null,
   "metadata": {},
   "outputs": [],
   "source": [
    "exist={}\n",
    "c = 1\n",
    "for i in tqdm(range(len(df))):\n",
    "    if  (df[i+1].datetime.diff(periods=1).nunique()==1):\n",
    "            exist[c] = df[i+1]\n",
    "            print('\\n\\n This dataframe does not require segmentation')\n",
    "            print(' Number of label that does not need segmentation :' , i+1)\n",
    "            print('\\n\\n Head : \\n',exist[c].head())\n",
    "            print('\\n\\n Tail : \\n',exist[c].tail())\n",
    "            print('\\n\\n Shape : ', exist[c].shape)\n",
    "            c+=1\n",
    "    else :\n",
    "            continue"
   ]
  },
  {
   "cell_type": "markdown",
   "metadata": {},
   "source": [
    "# Combining all the segmented DF where we can apply windowing "
   ]
  },
  {
   "cell_type": "code",
   "execution_count": null,
   "metadata": {},
   "outputs": [],
   "source": [
    "wi ={}\n",
    "new1=0\n",
    "count1=1\n",
    "count2=1\n",
    "for i in tqdm(range(len(segment))):\n",
    "    print('\\n\\nThis is a part of segment no : ' , i+1)\n",
    "    for j in segment[i+1].index:\n",
    "        wi[count2] = pd.DataFrame()\n",
    "        wi[count2]=df[i+1].loc[new1:j-1]\n",
    "        print('No {0} index of d{1} is {2}'.format(count1,i+1,j))\n",
    "        print('wi',count2,'\\n')\n",
    "        print('\\n\\n Head:\\n',wi[count2].head())\n",
    "        print('\\n\\n Tail:\\n',wi[count2].tail())\n",
    "        print('\\n\\n Shape:',wi[count2].shape,'\\n')\n",
    "        count2 +=1\n",
    "        count1+=1\n",
    "        new1=j\n",
    "        if (j==segment[i+1].index[-1]):\n",
    "            wi[count2] = df[i+1].loc[new1:]\n",
    "            print('No {0} index of d{1} is {2}'.format(count1-1,i+1,j))\n",
    "            print('wi',count2,'\\n')\n",
    "            print('\\n\\n Head:\\n',wi[count2].head())\n",
    "            print('\\n\\n Tail:\\n',wi[count2].tail())\n",
    "            print('\\n\\n Shape:',wi[count2].shape,'\\n') \n",
    "            count1=1\n",
    "            count2+=1\n",
    "            new1=0\n",
    "        else :\n",
    "            continue\n",
    "        #print('wi',count1,'\\n')\n",
    "        #print('\\n\\n Head:\\n',wi[count1].head())\n",
    "        #print('\\n\\n Tail:\\n',wi[count1].tail())\n",
    "        #print('\\n\\n Shape:',wi[count1].shape,'\\n')"
   ]
  },
  {
   "cell_type": "code",
   "execution_count": null,
   "metadata": {},
   "outputs": [],
   "source": [
    "a = len(wi)+1\n",
    "print('Length of wi is : ' , len(wi))\n",
    "print('Length of unsegmented dataframe is : ', len(exist))\n",
    "for i in tqdm(range(len(exist))):\n",
    "    wi[a]=exist[i+1]\n",
    "    a+=1\n",
    "print('After adding unsegmented dataframe, length of wi is : ', len(wi))"
   ]
  },
  {
   "cell_type": "markdown",
   "metadata": {},
   "source": [
    "# Windowing each of the previously segmented DF"
   ]
  },
  {
   "cell_type": "code",
   "execution_count": null,
   "metadata": {},
   "outputs": [],
   "source": [
    "pwd1 = 200\n",
    "pwd2 = 50\n",
    "overlap1 = 80\n",
    "overlap2 = 20\n",
    "final_window = pd.DataFrame(columns = ['user_id','acc_x','acc_y','acc_z','start','finish','label'])\n",
    "final_window['acc_x'] = final_window['acc_x'].astype('object')\n",
    "final_window['acc_y'] = final_window['acc_y'].astype('object')\n",
    "final_window['acc_z'] = final_window['acc_z'].astype('object')\n",
    "no1 = 0\n",
    "no2 = pwd1\n",
    "no3 = 0\n",
    "no4 = pwd2\n",
    "x_list = []\n",
    "y_list = []\n",
    "z_list = []\n",
    "hal = 0\n",
    "value_count = 0\n",
    "data_count = 0\n",
    "for j in tqdm(range(len(wi))):\n",
    "    no1 = 0\n",
    "    no2 = pwd1\n",
    "    no3 = 0\n",
    "    no4 = pwd2\n",
    "    \n",
    "    #val = math.ceil(((wi[j+1].index[-1]+1) - (wi[j+1].index[0]))/pwd)\n",
    "    \n",
    "    print('Length of wi{0} is {1}'.format(j+1, math.ceil(((wi[j+1].index[-1]+1) - (wi[j+1].index[0])))))\n",
    "    wi[j+1] = wi[j+1].reset_index(drop=True)\n",
    "    \n",
    "    if (len(wi[j+1]) >= pwd1):\n",
    "        print('\\n\\nThis wi{0} has more than {1} data \\n\\n'.format(j+1, pwd1))\n",
    "        while(no1 <= (len(wi[j+1]) - pwd1 + overlap1)):\n",
    "            if no2 <= len(wi[j+1]):\n",
    "                print('\\n\\nNumber till which list is windowed : ',no2)\n",
    "                final_window.loc[hal,'start'] = wi[j+1].loc[no1,'datetime']\n",
    "                final_window.loc[hal,'finish'] = wi[j+1].loc[no2-1,'datetime']\n",
    "                x_list.append(wi[j+1].loc[no1:no2-1].x)\n",
    "                x_list[hal] = x_list[hal].to_numpy()\n",
    "                final_window.loc[hal,'acc_x'] =  x_list[hal]\n",
    "                y_list.append(wi[j+1].loc[no1:no2-1].y)\n",
    "                y_list[hal] = y_list[hal].to_numpy()\n",
    "                final_window.loc[hal,'acc_y'] =  y_list[hal]\n",
    "                z_list.append(wi[j+1].loc[no1:no2-1].z)\n",
    "                z_list[hal] = z_list[hal].to_numpy()\n",
    "                final_window.loc[hal,'acc_z'] =  z_list[hal]\n",
    "                final_window.loc[hal,'label'] = wi[j+1].loc[i].label\n",
    "                final_window.loc[hal,'user_id'] = wi[j+1].loc[i].User_id\n",
    "                no1 = no1 + overlap1\n",
    "                no2 = no2 + overlap1\n",
    "                print('\\n\\nThe \\'hal\\' value is : ', hal )\n",
    "                hal+=1\n",
    "            \n",
    "            else :\n",
    "                print('\\n\\nHere not enough data for making another window.')\n",
    "                value_count += 1\n",
    "                no1 = no1 + overlap1\n",
    "                \n",
    "                \n",
    "    #elif (len(wi[j+1]) < pwd1) & (len(wi[j+1]) >= pwd2) :\n",
    "     #   print('\\n\\nThis wi{0} has less than {1} data \\n\\n'.format(j+1, pwd1))\n",
    "      #  while(no3 <= (len(wi[j+1]) - pwd2 + overlap2)):\n",
    "      #      if no4 <= len(wi[j+1]):\n",
    "      #          print('\\n\\nNumber till which list is windowed : ',no4)\n",
    "      #          final_window.loc[hal,'start'] = wi[j+1].loc[no3,'datetime']\n",
    "       #         final_window.loc[hal,'finish'] = wi[j+1].loc[no4-1,'datetime']\n",
    "       #         x_list.append(wi[j+1].loc[no3:no4-1].x)\n",
    "       #         x_list[hal] = x_list[hal].to_numpy()\n",
    "       #         final_window.loc[hal,'acc_x'] =  x_list[hal]\n",
    "       #         y_list.append(wi[j+1].loc[no3:no4-1].y)\n",
    "       #         y_list[hal] = y_list[hal].to_numpy()\n",
    "       #         final_window.loc[hal,'acc_y'] =  y_list[hal]\n",
    "       #         z_list.append(wi[j+1].loc[no3:no4-1].z)\n",
    "       #         z_list[hal] = z_list[hal].to_numpy()\n",
    "       #         final_window.loc[hal,'acc_z'] =  z_list[hal]\n",
    "       #         final_window.loc[hal,'label'] = wi[j+1].loc[i].label\n",
    "       #         final_window.loc[hal,'user_id'] = wi[j+1].loc[i].User_id\n",
    "       #         no3 = no3 + overlap2\n",
    "       #         no4 = no4 + overlap2\n",
    "       #         print('\\n\\nThe \\'hal\\' value is : ', hal )\n",
    "       #         hal+=1\n",
    "            \n",
    "        #    else :\n",
    "        #        print('\\n\\nHere not enough data for making another window.')\n",
    "        #        value_count += 1\n",
    "        #        no3 = no3 + overlap2\n",
    "                \n",
    "    else :\n",
    "        data_count += 1\n",
    "        \n",
    "print('\\n\\nNo of Dataframe which has data less than desired value (50 & 100 ) : ', data_count)        \n",
    "print('\\n\\nNo of incident when there were not sufficient data for making new widow : ', value_count )                "
   ]
  },
  {
   "cell_type": "code",
   "execution_count": null,
   "metadata": {},
   "outputs": [],
   "source": [
    "print(final_window.shape)\n",
    "final_window.head()"
   ]
  },
  {
   "cell_type": "code",
   "execution_count": null,
   "metadata": {},
   "outputs": [],
   "source": [
    "final_window.label.value_counts()"
   ]
  },
  {
   "cell_type": "code",
   "execution_count": null,
   "metadata": {},
   "outputs": [],
   "source": [
    "len(final_window.acc_x[0])"
   ]
  },
  {
   "cell_type": "code",
   "execution_count": null,
   "metadata": {},
   "outputs": [],
   "source": [
    "pickel_out = open('window_pi_200.pickle','wb')\n",
    "pickle.dump(final_window,pickel_out)\n",
    "pickel_out.close()"
   ]
  }
 ],
 "metadata": {
  "kernelspec": {
   "display_name": "Python 3",
   "language": "python",
   "name": "python3"
  },
  "language_info": {
   "codemirror_mode": {
    "name": "ipython",
    "version": 3
   },
   "file_extension": ".py",
   "mimetype": "text/x-python",
   "name": "python",
   "nbconvert_exporter": "python",
   "pygments_lexer": "ipython3",
   "version": "3.8.3"
  }
 },
 "nbformat": 4,
 "nbformat_minor": 4
}
